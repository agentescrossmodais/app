{
  "nbformat": 4,
  "nbformat_minor": 0,
  "metadata": {
    "colab": {
      "provenance": [],
      "gpuType": "T4",
      "authorship_tag": "ABX9TyPZ6ieI2AJ4ZsApG7BYyE8g",
      "include_colab_link": true
    },
    "kernelspec": {
      "name": "python3",
      "display_name": "Python 3"
    },
    "language_info": {
      "name": "python"
    },
    "accelerator": "GPU"
  },
  "cells": [
    {
      "cell_type": "markdown",
      "metadata": {
        "id": "view-in-github",
        "colab_type": "text"
      },
      "source": [
        "<a href=\"https://colab.research.google.com/github/agentescrossmodais/app/blob/main/io.ipynb\" target=\"_parent\"><img src=\"https://colab.research.google.com/assets/colab-badge.svg\" alt=\"Open In Colab\"/></a>"
      ]
    },
    {
      "cell_type": "code",
      "source": [
        "import pandas as pd\n",
        "import numpy as np\n",
        "import matplotlib.pyplot as plt\n",
        "import seaborn as sns\n",
        "from IPython.display import display, Markdown\n",
        "import os\n",
        "from google.colab import drive  # API nativa do Google Colab\n",
        "import scipy.stats as stats\n",
        "import statsmodels.api as sm\n",
        "import statsmodels.formula.api as smf\n",
        "import sklearn.model_selection as ms\n",
        "import sklearn.cluster as cluster\n",
        "import sklearn.metrics as metrics\n",
        "import sklearn.decomposition as decomposition\n",
        "import pingouin as pg\n",
        "import io\n",
        "\n",
        "# --- Configurações de Estilo ---\n",
        "FIGSIZE = (12, 8)\n",
        "DEFAULT_PALETTE = \"viridis\"\n",
        "\n",
        "sns.set(style=\"darkgrid\")\n",
        "plt.rcParams.update({\n",
        "    'figure.facecolor': 'black',\n",
        "    'axes.facecolor': 'black',\n",
        "    'axes.edgecolor': 'white',\n",
        "    'axes.labelcolor': 'cyan',\n",
        "    'xtick.color': 'white',\n",
        "    'ytick.color': 'white',\n",
        "    'text.color': 'white',\n",
        "    'grid.color': 'gray',\n",
        "    'grid.linestyle': '--',\n",
        "    'legend.facecolor': 'black',\n",
        "    'legend.edgecolor': 'white',\n",
        "    'figure.titlesize': 20,\n",
        "    'axes.titlesize': 16,\n",
        "    'axes.labelsize': 14,\n",
        "    'xtick.labelsize': 12,\n",
        "    'ytick.labelsize': 12,\n",
        "    'legend.fontsize': 12,\n",
        "})\n",
        "\n",
        "# --- Funções Auxiliares ---\n",
        "def mount_google_drive():\n",
        "    \"\"\"Monta o Google Drive usando a API nativa.\"\"\"\n",
        "    drive.mount('/content/drive')\n",
        "\n",
        "def get_drive_path(relative_path):\n",
        "    \"\"\"Retorna o caminho completo no Drive.\"\"\"\n",
        "    return os.path.join('/content/drive/MyDrive', relative_path)\n",
        "\n",
        "def ensure_directory_exists_on_drive(relative_path):\n",
        "    \"\"\"Cria diretório no Drive, se não existir.\"\"\"\n",
        "    drive_path = get_drive_path(relative_path)\n",
        "    if not os.path.exists(drive_path):\n",
        "        os.makedirs(drive_path, exist_ok=True)\n",
        "        print(f\"Diretório criado: {drive_path}\")\n",
        "    return drive_path\n",
        "\n",
        "def create_figure():\n",
        "    \"\"\"Cria uma figura com o tamanho padrão.\"\"\"\n",
        "    return plt.figure(figsize=FIGSIZE)\n",
        "\n",
        "def save_fig(fig, filename, drive_folder_path):\n",
        "    \"\"\"Salva a figura no Drive.\"\"\"\n",
        "    try:\n",
        "        filepath = os.path.join(drive_folder_path, filename)\n",
        "        fig.savefig(filepath, dpi=300, bbox_inches='tight')\n",
        "        print(f\"Gráfico salvo: {filepath}\")\n",
        "    except Exception as e:\n",
        "        print(f\"Erro ao salvar '{filename}': {e}\")\n",
        "    finally:\n",
        "        plt.close(fig)\n",
        "\n",
        "# --- Funções de Visualização Aprimoradas ---\n",
        "def plot_boxplot(df, x_col, y_col, title, filename, drive_folder_path, hue=None):\n",
        "    \"\"\"Plota boxplot com estilo personalizado.\"\"\"\n",
        "    try:\n",
        "        fig = create_figure()\n",
        "        sns.boxplot(x=x_col, y=y_col, data=df, hue=hue, palette=DEFAULT_PALETTE)\n",
        "        plt.title(title, color='white')\n",
        "        plt.xlabel(x_col.replace('_', ' '), color='cyan')\n",
        "        plt.ylabel(y_col.replace('_', ' '), color='cyan')\n",
        "        if hue:\n",
        "            plt.legend(title=hue.replace('_', ' '), loc='best', facecolor='black', edgecolor='white')\n",
        "        save_fig(fig, filename, drive_folder_path)\n",
        "    except Exception as e:\n",
        "        print(f\"Erro em plot_boxplot: {e}\")\n",
        "\n",
        "def plot_violin(df, x_col, y_col, title, filename, drive_folder_path, hue=None):\n",
        "    \"\"\"Plota violin plot com estilo personalizado.\"\"\"\n",
        "    try:\n",
        "        fig = create_figure()\n",
        "        sns.violinplot(x=x_col, y=y_col, data=df, hue=hue, palette=DEFAULT_PALETTE, split=(hue is not None))\n",
        "        plt.title(title, color='white')\n",
        "        plt.xlabel(x_col.replace('_', ' '), color='cyan')\n",
        "        plt.ylabel(y_col.replace('_', ' '), color='cyan')\n",
        "        if hue:\n",
        "            plt.legend(title=hue.replace('_', ' '), loc='best', facecolor='black', edgecolor='white')\n",
        "        save_fig(fig, filename, drive_folder_path)\n",
        "    except Exception as e:\n",
        "        print(f\"Erro em plot_violin: {e}\")\n",
        "\n",
        "def plot_kde(df, col, title, filename, drive_folder_path, hue=None):\n",
        "    \"\"\"Plota KDE plot com estilo personalizado.\"\"\"\n",
        "    try:\n",
        "        fig = create_figure()\n",
        "        if hue:\n",
        "            for level in df[hue].unique():\n",
        "                sns.kdeplot(df.loc[df[hue] == level, col], label=level, shade=True, palette=DEFAULT_PALETTE)\n",
        "            plt.legend(title=hue.replace('_', ' '), loc='best', facecolor='black', edgecolor='white')\n",
        "        else:\n",
        "            sns.kdeplot(df[col], shade=True, color='cyan')\n",
        "        plt.title(title, color='white')\n",
        "        plt.xlabel(col.replace('_', ' '), color='cyan')\n",
        "        plt.ylabel('Densidade', color='cyan')\n",
        "        save_fig(fig, filename, drive_folder_path)\n",
        "    except Exception as e:\n",
        "        print(f\"Erro em plot_kde: {e}\")\n",
        "\n",
        "# --- Funções de Análise ---\n",
        "def gerar_dados_teste(n_alunos=40):\n",
        "    \"\"\"Gera dados sintéticos para teste.\"\"\"\n",
        "    np.random.seed(42)\n",
        "    dados = pd.DataFrame({\n",
        "        'aluno_id': range(1, n_alunos + 1),\n",
        "        'desempenho_prova': np.random.normal(loc=70, scale=15, size=n_alunos),\n",
        "        'frequencia': np.random.uniform(low=0.7, high=1, size=n_alunos),\n",
        "        'participacao_atividades': np.random.poisson(lam=3, size=n_alunos),\n",
        "        'questionario_socioemocional': np.random.randint(1, 6, size=n_alunos),\n",
        "        'feedback_professor': np.random.normal(loc=4, scale=0.8, size=n_alunos),\n",
        "        'grupo': np.random.choice(['ComAgentes', 'SemAgentes'], size=n_alunos)  # Alteração aqui\n",
        "    })\n",
        "    return dados\n",
        "\n",
        "def realizar_testes_t(df, variavel_teste, grupo_coluna, drive_folder_path):\n",
        "    \"\"\"Realiza testes t independentes entre grupos e gera visualizações.\"\"\"\n",
        "    print(f\"\\n--- Testes t para {variavel_teste} ---\")\n",
        "    if grupo_coluna not in df.columns or variavel_teste not in df.columns:\n",
        "        print(f\"Colunas '{grupo_coluna}' ou '{variavel_teste}' não encontradas.\")\n",
        "        return\n",
        "    grupos = df[grupo_coluna].unique()\n",
        "    if len(grupos) < 2:\n",
        "        print(\"Número insuficiente de grupos para o teste t.\")\n",
        "        return\n",
        "    try:\n",
        "        if not pd.api.types.is_numeric_dtype(df[variavel_teste]):\n",
        "            df[variavel_teste] = pd.to_numeric(df[variavel_teste], errors='coerce')\n",
        "            df.dropna(subset=[variavel_teste], inplace=True)\n",
        "        grupo1 = df[df[grupo_coluna] == 'ComAgentes'][variavel_teste]\n",
        "        grupo2 = df[df[grupo_coluna] == 'SemAgentes'][variavel_teste]\n",
        "        ttest_result = pg.ttest(grupo1, grupo2, paired=False)\n",
        "        print(f\"\\nTeste t para {variavel_teste} (ComAgentes vs SemAgentes):\\n\", ttest_result)\n",
        "        plot_boxplot(df, grupo_coluna, variavel_teste, f\"{variavel_teste} - Boxplot\",\n",
        "                     f\"{variavel_teste}_boxplot.png\", drive_folder_path, hue=grupo_coluna)\n",
        "        plot_violin(df, grupo_coluna, variavel_teste, f\"{variavel_teste} - Violin Plot\",\n",
        "                    f\"{variavel_teste}_violin.png\", drive_folder_path, hue=grupo_coluna)\n",
        "        plot_kde(df, variavel_teste, f\"{variavel_teste} - KDE\", f\"{variavel_teste}_kde.png\",\n",
        "                 drive_folder_path, hue=grupo_coluna)\n",
        "    except Exception as e:\n",
        "        print(f\"Erro no teste t para '{variavel_teste}': {e}\")\n",
        "\n",
        "# --- Função Principal (main) ---\n",
        "if __name__ == \"__main__\":\n",
        "    mount_google_drive()\n",
        "    drive_base_path = '/content/drive/MyDrive/'\n",
        "    graficos_drive_path = ensure_directory_exists_on_drive('graficos')\n",
        "    sumario_drive_path = ensure_directory_exists_on_drive('sumario')\n",
        "    display(Markdown(\"# Análise do Sistema de Indicadores Sintéticos (Agentes Crossmodais)\"))\n",
        "\n",
        "    # --- Carregar Dados ---\n",
        "    df = gerar_dados_teste()\n",
        "\n",
        "    # --- Pré-processar Dados ---\n",
        "    df = pre_processar_dados(df)\n",
        "\n",
        "    # --- Análise Exploratória e Relatório ---\n",
        "    gerar_relatorio_estatistico(df, sumario_drive_path)\n",
        "\n",
        "    # --- Definir colunas ---\n",
        "    colunas_numericas = df.select_dtypes(include=np.number).columns.tolist()\n",
        "    colunas_fatoriais = ['desempenho_prova', 'frequencia', 'participacao_atividades', 'questionario_socioemocional', 'feedback_professor']\n",
        "    colunas_cluster = ['Desempenho_Academico', 'Engajamento_Escolar', 'Bem_Estar_Socioemocional']\n",
        "    grupo_coluna = 'grupo'\n",
        "\n",
        "    # --- Análises ---\n",
        "    analisar_correlacoes(df, colunas_numericas, graficos_drive_path)\n",
        "    df = aplicar_analise_fatorial(df, colunas_fatoriais, graficos_drive_path)\n",
        "\n",
        "    if all(col in df.columns for col in colunas_cluster):\n",
        "        df = aplicar_analise_cluster(df, colunas_cluster, graficos_drive_path)\n",
        "\n",
        "    if grupo_coluna in df.columns:\n",
        "        for col in colunas_numericas:\n",
        "            if col not in ['Desempenho_Academico', 'Engajamento_Escolar', 'Bem_Estar_Socioemocional', 'cluster', 'aluno_id']:\n",
        "                realizar_testes_t(df, col, grupo_coluna, graficos_drive_path)\n",
        "\n",
        "    display(Markdown(\"## Conclusões\"))\n",
        "    display(Markdown(\"Resultados da análise do sistema de indicadores sintéticos.\"))"
      ],
      "metadata": {
        "colab": {
          "base_uri": "https://localhost:8080/",
          "height": 1000
        },
        "id": "rzZjCgpuB7cf",
        "outputId": "7bcd79a5-363f-41ba-9c49-c1c7ee4b7dc1"
      },
      "execution_count": 14,
      "outputs": [
        {
          "output_type": "stream",
          "name": "stdout",
          "text": [
            "Drive already mounted at /content/drive; to attempt to forcibly remount, call drive.mount(\"/content/drive\", force_remount=True).\n"
          ]
        },
        {
          "output_type": "display_data",
          "data": {
            "text/plain": [
              "<IPython.core.display.Markdown object>"
            ],
            "text/markdown": "# Análise do Sistema de Indicadores Sintéticos (Agentes Crossmodais)"
          },
          "metadata": {}
        },
        {
          "output_type": "stream",
          "name": "stdout",
          "text": [
            "Pré-processamento dos dados...\n",
            "Gerando relatório estatístico...\n",
            "Relatório estatístico salvo em: /content/drive/MyDrive/sumario/sumario.txt\n",
            "Analisando correlações...\n",
            "\n",
            "Matriz de Correlação:\n",
            "                              aluno_id  desempenho_prova  frequencia  \\\n",
            "aluno_id                     1.000000         -0.250444   -0.112745   \n",
            "desempenho_prova            -0.250444          1.000000    0.057739   \n",
            "frequencia                  -0.112745          0.057739    1.000000   \n",
            "participacao_atividades      0.014239          0.278820    0.011033   \n",
            "questionario_socioemocional  0.171382         -0.002671    0.060004   \n",
            "feedback_professor          -0.160473          0.411418   -0.021641   \n",
            "\n",
            "                             participacao_atividades  \\\n",
            "aluno_id                                    0.014239   \n",
            "desempenho_prova                            0.278820   \n",
            "frequencia                                  0.011033   \n",
            "participacao_atividades                     1.000000   \n",
            "questionario_socioemocional                 0.087556   \n",
            "feedback_professor                          0.294790   \n",
            "\n",
            "                             questionario_socioemocional  feedback_professor  \n",
            "aluno_id                                        0.171382           -0.160473  \n",
            "desempenho_prova                               -0.002671            0.411418  \n",
            "frequencia                                      0.060004           -0.021641  \n",
            "participacao_atividades                         0.087556            0.294790  \n",
            "questionario_socioemocional                     1.000000           -0.223972  \n",
            "feedback_professor                             -0.223972            1.000000  \n",
            "Gráfico salvo: /content/drive/MyDrive/graficos/matriz_correlacao.png\n",
            "\n",
            "--- Análise Fatorial ---\n",
            "\n",
            "Cargas Fatoriais:\n",
            "                              Desempenho Acadêmico  Engajamento Escolar  \\\n",
            "desempenho_prova                         0.588698             0.187772   \n",
            "frequencia                               0.006007             0.117011   \n",
            "participacao_atividades                  0.436873             0.299544   \n",
            "questionario_socioemocional             -0.188742             0.551768   \n",
            "feedback_professor                       0.728717            -0.137899   \n",
            "\n",
            "                             Bem-Estar Socioemocional  \n",
            "desempenho_prova                            -0.185431  \n",
            "frequencia                                  -0.153894  \n",
            "participacao_atividades                      0.205442  \n",
            "questionario_socioemocional                 -0.002367  \n",
            "feedback_professor                           0.033673  \n"
          ]
        },
        {
          "output_type": "display_data",
          "data": {
            "text/plain": [
              "<IPython.core.display.Markdown object>"
            ],
            "text/markdown": "\n        **Interpretação:**\n        - **Fator 1 (Desempenho Acadêmico):** Representa o desempenho geral em provas e atividades acadêmicas.\n        - **Fator 2 (Engajamento Escolar):** Reflete o envolvimento do aluno nas atividades escolares.\n        - **Fator 3 (Bem-Estar Socioemocional):** Indica o bem-estar emocional e social do aluno.\n        "
          },
          "metadata": {}
        },
        {
          "output_type": "stream",
          "name": "stdout",
          "text": [
            "\n",
            "--- Análise de Cluster (K-Means) ---\n",
            "\n",
            "Distribuição dos Clusters:\n",
            " cluster\n",
            "0    14\n",
            "2    12\n",
            "3     8\n",
            "1     6\n",
            "Name: count, dtype: int64\n",
            "\n",
            "Características dos Clusters (Médias):\n",
            "          Desempenho_Academico  Engajamento_Escolar  Bem_Estar_Socioemocional\n",
            "cluster                                                                     \n",
            "0                   -0.562797            -0.336891                 -0.087074\n",
            "1                    1.145879             0.805695                 -0.120058\n",
            "2                    0.601587            -0.485806                  0.067105\n",
            "3                   -0.776896             0.713998                  0.141765\n",
            "Gráfico salvo: /content/drive/MyDrive/graficos/clusters_kmeans.png\n",
            "\n",
            "--- Testes t para desempenho_prova ---\n",
            "\n",
            "Teste t para desempenho_prova (ComAgentes vs SemAgentes):\n",
            "                T        dof alternative     p-val          CI95%   cohen-d  \\\n",
            "T-test -0.300078  37.904673   two-sided  0.765757  [-10.52, 7.8]  0.093871   \n",
            "\n",
            "         BF10     power  \n",
            "T-test  0.321  0.059553  \n"
          ]
        },
        {
          "output_type": "stream",
          "name": "stderr",
          "text": [
            "<ipython-input-14-9a9d93c62015>:85: UserWarning: No artists with labels found to put in legend.  Note that artists whose label start with an underscore are ignored when legend() is called with no argument.\n",
            "  plt.legend(title=hue.replace('_', ' '), loc='best', facecolor='black', edgecolor='white')\n"
          ]
        },
        {
          "output_type": "stream",
          "name": "stdout",
          "text": [
            "Gráfico salvo: /content/drive/MyDrive/graficos/desempenho_prova_boxplot.png\n"
          ]
        },
        {
          "output_type": "stream",
          "name": "stderr",
          "text": [
            "<ipython-input-14-9a9d93c62015>:99: UserWarning: No artists with labels found to put in legend.  Note that artists whose label start with an underscore are ignored when legend() is called with no argument.\n",
            "  plt.legend(title=hue.replace('_', ' '), loc='best', facecolor='black', edgecolor='white')\n"
          ]
        },
        {
          "output_type": "stream",
          "name": "stdout",
          "text": [
            "Gráfico salvo: /content/drive/MyDrive/graficos/desempenho_prova_violin.png\n"
          ]
        },
        {
          "output_type": "stream",
          "name": "stderr",
          "text": [
            "<ipython-input-14-9a9d93c62015>:110: FutureWarning: \n",
            "\n",
            "`shade` is now deprecated in favor of `fill`; setting `fill=True`.\n",
            "This will become an error in seaborn v0.14.0; please update your code.\n",
            "\n",
            "  sns.kdeplot(df.loc[df[hue] == level, col], label=level, shade=True, palette=DEFAULT_PALETTE)\n",
            "<ipython-input-14-9a9d93c62015>:110: UserWarning: Ignoring `palette` because no `hue` variable has been assigned.\n",
            "  sns.kdeplot(df.loc[df[hue] == level, col], label=level, shade=True, palette=DEFAULT_PALETTE)\n",
            "<ipython-input-14-9a9d93c62015>:110: FutureWarning: \n",
            "\n",
            "`shade` is now deprecated in favor of `fill`; setting `fill=True`.\n",
            "This will become an error in seaborn v0.14.0; please update your code.\n",
            "\n",
            "  sns.kdeplot(df.loc[df[hue] == level, col], label=level, shade=True, palette=DEFAULT_PALETTE)\n",
            "<ipython-input-14-9a9d93c62015>:110: UserWarning: Ignoring `palette` because no `hue` variable has been assigned.\n",
            "  sns.kdeplot(df.loc[df[hue] == level, col], label=level, shade=True, palette=DEFAULT_PALETTE)\n"
          ]
        },
        {
          "output_type": "stream",
          "name": "stdout",
          "text": [
            "Gráfico salvo: /content/drive/MyDrive/graficos/desempenho_prova_kde.png\n",
            "\n",
            "--- Testes t para frequencia ---\n",
            "\n",
            "Teste t para frequencia (ComAgentes vs SemAgentes):\n",
            "                T        dof alternative     p-val          CI95%   cohen-d  \\\n",
            "T-test -1.688656  32.352991   two-sided  0.100903  [-0.11, 0.01]  0.548782   \n",
            "\n",
            "         BF10     power  \n",
            "T-test  0.943  0.391067  \n"
          ]
        },
        {
          "output_type": "stream",
          "name": "stderr",
          "text": [
            "<ipython-input-14-9a9d93c62015>:85: UserWarning: No artists with labels found to put in legend.  Note that artists whose label start with an underscore are ignored when legend() is called with no argument.\n",
            "  plt.legend(title=hue.replace('_', ' '), loc='best', facecolor='black', edgecolor='white')\n"
          ]
        },
        {
          "output_type": "stream",
          "name": "stdout",
          "text": [
            "Gráfico salvo: /content/drive/MyDrive/graficos/frequencia_boxplot.png\n"
          ]
        },
        {
          "output_type": "stream",
          "name": "stderr",
          "text": [
            "<ipython-input-14-9a9d93c62015>:99: UserWarning: No artists with labels found to put in legend.  Note that artists whose label start with an underscore are ignored when legend() is called with no argument.\n",
            "  plt.legend(title=hue.replace('_', ' '), loc='best', facecolor='black', edgecolor='white')\n"
          ]
        },
        {
          "output_type": "stream",
          "name": "stdout",
          "text": [
            "Gráfico salvo: /content/drive/MyDrive/graficos/frequencia_violin.png\n"
          ]
        },
        {
          "output_type": "stream",
          "name": "stderr",
          "text": [
            "<ipython-input-14-9a9d93c62015>:110: FutureWarning: \n",
            "\n",
            "`shade` is now deprecated in favor of `fill`; setting `fill=True`.\n",
            "This will become an error in seaborn v0.14.0; please update your code.\n",
            "\n",
            "  sns.kdeplot(df.loc[df[hue] == level, col], label=level, shade=True, palette=DEFAULT_PALETTE)\n",
            "<ipython-input-14-9a9d93c62015>:110: UserWarning: Ignoring `palette` because no `hue` variable has been assigned.\n",
            "  sns.kdeplot(df.loc[df[hue] == level, col], label=level, shade=True, palette=DEFAULT_PALETTE)\n",
            "<ipython-input-14-9a9d93c62015>:110: FutureWarning: \n",
            "\n",
            "`shade` is now deprecated in favor of `fill`; setting `fill=True`.\n",
            "This will become an error in seaborn v0.14.0; please update your code.\n",
            "\n",
            "  sns.kdeplot(df.loc[df[hue] == level, col], label=level, shade=True, palette=DEFAULT_PALETTE)\n",
            "<ipython-input-14-9a9d93c62015>:110: UserWarning: Ignoring `palette` because no `hue` variable has been assigned.\n",
            "  sns.kdeplot(df.loc[df[hue] == level, col], label=level, shade=True, palette=DEFAULT_PALETTE)\n"
          ]
        },
        {
          "output_type": "stream",
          "name": "stdout",
          "text": [
            "Gráfico salvo: /content/drive/MyDrive/graficos/frequencia_kde.png\n",
            "\n",
            "--- Testes t para participacao_atividades ---\n",
            "\n",
            "Teste t para participacao_atividades (ComAgentes vs SemAgentes):\n",
            "                T        dof alternative     p-val         CI95%   cohen-d  \\\n",
            "T-test -0.043614  33.839752   two-sided  0.965469  [-1.2, 1.15]  0.014072   \n",
            "\n",
            "        BF10     power  \n",
            "T-test  0.31  0.050214  \n"
          ]
        },
        {
          "output_type": "stream",
          "name": "stderr",
          "text": [
            "<ipython-input-14-9a9d93c62015>:85: UserWarning: No artists with labels found to put in legend.  Note that artists whose label start with an underscore are ignored when legend() is called with no argument.\n",
            "  plt.legend(title=hue.replace('_', ' '), loc='best', facecolor='black', edgecolor='white')\n"
          ]
        },
        {
          "output_type": "stream",
          "name": "stdout",
          "text": [
            "Gráfico salvo: /content/drive/MyDrive/graficos/participacao_atividades_boxplot.png\n"
          ]
        },
        {
          "output_type": "stream",
          "name": "stderr",
          "text": [
            "<ipython-input-14-9a9d93c62015>:99: UserWarning: No artists with labels found to put in legend.  Note that artists whose label start with an underscore are ignored when legend() is called with no argument.\n",
            "  plt.legend(title=hue.replace('_', ' '), loc='best', facecolor='black', edgecolor='white')\n"
          ]
        },
        {
          "output_type": "stream",
          "name": "stdout",
          "text": [
            "Gráfico salvo: /content/drive/MyDrive/graficos/participacao_atividades_violin.png\n"
          ]
        },
        {
          "output_type": "stream",
          "name": "stderr",
          "text": [
            "<ipython-input-14-9a9d93c62015>:110: FutureWarning: \n",
            "\n",
            "`shade` is now deprecated in favor of `fill`; setting `fill=True`.\n",
            "This will become an error in seaborn v0.14.0; please update your code.\n",
            "\n",
            "  sns.kdeplot(df.loc[df[hue] == level, col], label=level, shade=True, palette=DEFAULT_PALETTE)\n",
            "<ipython-input-14-9a9d93c62015>:110: UserWarning: Ignoring `palette` because no `hue` variable has been assigned.\n",
            "  sns.kdeplot(df.loc[df[hue] == level, col], label=level, shade=True, palette=DEFAULT_PALETTE)\n",
            "<ipython-input-14-9a9d93c62015>:110: FutureWarning: \n",
            "\n",
            "`shade` is now deprecated in favor of `fill`; setting `fill=True`.\n",
            "This will become an error in seaborn v0.14.0; please update your code.\n",
            "\n",
            "  sns.kdeplot(df.loc[df[hue] == level, col], label=level, shade=True, palette=DEFAULT_PALETTE)\n",
            "<ipython-input-14-9a9d93c62015>:110: UserWarning: Ignoring `palette` because no `hue` variable has been assigned.\n",
            "  sns.kdeplot(df.loc[df[hue] == level, col], label=level, shade=True, palette=DEFAULT_PALETTE)\n"
          ]
        },
        {
          "output_type": "stream",
          "name": "stdout",
          "text": [
            "Gráfico salvo: /content/drive/MyDrive/graficos/participacao_atividades_kde.png\n",
            "\n",
            "--- Testes t para questionario_socioemocional ---\n",
            "\n",
            "Teste t para questionario_socioemocional (ComAgentes vs SemAgentes):\n",
            "               T        dof alternative    p-val          CI95%   cohen-d  \\\n",
            "T-test -1.45809  37.774848   two-sided  0.15308  [-1.34, 0.22]  0.450429   \n",
            "\n",
            "         BF10     power  \n",
            "T-test  0.714  0.281899  \n"
          ]
        },
        {
          "output_type": "stream",
          "name": "stderr",
          "text": [
            "<ipython-input-14-9a9d93c62015>:85: UserWarning: No artists with labels found to put in legend.  Note that artists whose label start with an underscore are ignored when legend() is called with no argument.\n",
            "  plt.legend(title=hue.replace('_', ' '), loc='best', facecolor='black', edgecolor='white')\n"
          ]
        },
        {
          "output_type": "stream",
          "name": "stdout",
          "text": [
            "Gráfico salvo: /content/drive/MyDrive/graficos/questionario_socioemocional_boxplot.png\n"
          ]
        },
        {
          "output_type": "stream",
          "name": "stderr",
          "text": [
            "<ipython-input-14-9a9d93c62015>:99: UserWarning: No artists with labels found to put in legend.  Note that artists whose label start with an underscore are ignored when legend() is called with no argument.\n",
            "  plt.legend(title=hue.replace('_', ' '), loc='best', facecolor='black', edgecolor='white')\n"
          ]
        },
        {
          "output_type": "stream",
          "name": "stdout",
          "text": [
            "Gráfico salvo: /content/drive/MyDrive/graficos/questionario_socioemocional_violin.png\n"
          ]
        },
        {
          "output_type": "stream",
          "name": "stderr",
          "text": [
            "<ipython-input-14-9a9d93c62015>:110: FutureWarning: \n",
            "\n",
            "`shade` is now deprecated in favor of `fill`; setting `fill=True`.\n",
            "This will become an error in seaborn v0.14.0; please update your code.\n",
            "\n",
            "  sns.kdeplot(df.loc[df[hue] == level, col], label=level, shade=True, palette=DEFAULT_PALETTE)\n",
            "<ipython-input-14-9a9d93c62015>:110: UserWarning: Ignoring `palette` because no `hue` variable has been assigned.\n",
            "  sns.kdeplot(df.loc[df[hue] == level, col], label=level, shade=True, palette=DEFAULT_PALETTE)\n",
            "<ipython-input-14-9a9d93c62015>:110: FutureWarning: \n",
            "\n",
            "`shade` is now deprecated in favor of `fill`; setting `fill=True`.\n",
            "This will become an error in seaborn v0.14.0; please update your code.\n",
            "\n",
            "  sns.kdeplot(df.loc[df[hue] == level, col], label=level, shade=True, palette=DEFAULT_PALETTE)\n",
            "<ipython-input-14-9a9d93c62015>:110: UserWarning: Ignoring `palette` because no `hue` variable has been assigned.\n",
            "  sns.kdeplot(df.loc[df[hue] == level, col], label=level, shade=True, palette=DEFAULT_PALETTE)\n"
          ]
        },
        {
          "output_type": "stream",
          "name": "stdout",
          "text": [
            "Gráfico salvo: /content/drive/MyDrive/graficos/questionario_socioemocional_kde.png\n",
            "\n",
            "--- Testes t para feedback_professor ---\n",
            "\n",
            "Teste t para feedback_professor (ComAgentes vs SemAgentes):\n",
            "                T        dof alternative     p-val          CI95%   cohen-d  \\\n",
            "T-test -0.604916  35.135503   two-sided  0.549122  [-0.81, 0.44]  0.193842   \n",
            "\n",
            "         BF10     power  \n",
            "T-test  0.359  0.091389  \n"
          ]
        },
        {
          "output_type": "stream",
          "name": "stderr",
          "text": [
            "<ipython-input-14-9a9d93c62015>:85: UserWarning: No artists with labels found to put in legend.  Note that artists whose label start with an underscore are ignored when legend() is called with no argument.\n",
            "  plt.legend(title=hue.replace('_', ' '), loc='best', facecolor='black', edgecolor='white')\n"
          ]
        },
        {
          "output_type": "stream",
          "name": "stdout",
          "text": [
            "Gráfico salvo: /content/drive/MyDrive/graficos/feedback_professor_boxplot.png\n"
          ]
        },
        {
          "output_type": "stream",
          "name": "stderr",
          "text": [
            "<ipython-input-14-9a9d93c62015>:99: UserWarning: No artists with labels found to put in legend.  Note that artists whose label start with an underscore are ignored when legend() is called with no argument.\n",
            "  plt.legend(title=hue.replace('_', ' '), loc='best', facecolor='black', edgecolor='white')\n"
          ]
        },
        {
          "output_type": "stream",
          "name": "stdout",
          "text": [
            "Gráfico salvo: /content/drive/MyDrive/graficos/feedback_professor_violin.png\n"
          ]
        },
        {
          "output_type": "stream",
          "name": "stderr",
          "text": [
            "<ipython-input-14-9a9d93c62015>:110: FutureWarning: \n",
            "\n",
            "`shade` is now deprecated in favor of `fill`; setting `fill=True`.\n",
            "This will become an error in seaborn v0.14.0; please update your code.\n",
            "\n",
            "  sns.kdeplot(df.loc[df[hue] == level, col], label=level, shade=True, palette=DEFAULT_PALETTE)\n",
            "<ipython-input-14-9a9d93c62015>:110: UserWarning: Ignoring `palette` because no `hue` variable has been assigned.\n",
            "  sns.kdeplot(df.loc[df[hue] == level, col], label=level, shade=True, palette=DEFAULT_PALETTE)\n",
            "<ipython-input-14-9a9d93c62015>:110: FutureWarning: \n",
            "\n",
            "`shade` is now deprecated in favor of `fill`; setting `fill=True`.\n",
            "This will become an error in seaborn v0.14.0; please update your code.\n",
            "\n",
            "  sns.kdeplot(df.loc[df[hue] == level, col], label=level, shade=True, palette=DEFAULT_PALETTE)\n",
            "<ipython-input-14-9a9d93c62015>:110: UserWarning: Ignoring `palette` because no `hue` variable has been assigned.\n",
            "  sns.kdeplot(df.loc[df[hue] == level, col], label=level, shade=True, palette=DEFAULT_PALETTE)\n"
          ]
        },
        {
          "output_type": "stream",
          "name": "stdout",
          "text": [
            "Gráfico salvo: /content/drive/MyDrive/graficos/feedback_professor_kde.png\n"
          ]
        },
        {
          "output_type": "display_data",
          "data": {
            "text/plain": [
              "<IPython.core.display.Markdown object>"
            ],
            "text/markdown": "## Conclusões"
          },
          "metadata": {}
        },
        {
          "output_type": "display_data",
          "data": {
            "text/plain": [
              "<IPython.core.display.Markdown object>"
            ],
            "text/markdown": "Resultados da análise do sistema de indicadores sintéticos."
          },
          "metadata": {}
        }
      ]
    }
  ]
}